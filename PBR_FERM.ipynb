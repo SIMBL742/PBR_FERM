{
  "nbformat": 4,
  "nbformat_minor": 0,
  "metadata": {
    "colab": {
      "provenance": [],
      "toc_visible": true,
      "authorship_tag": "ABX9TyPV3RuHR7KIV9wMDPdnbc6q",
      "include_colab_link": true
    },
    "kernelspec": {
      "name": "python3",
      "display_name": "Python 3"
    },
    "language_info": {
      "name": "python"
    }
  },
  "cells": [
    {
      "cell_type": "markdown",
      "metadata": {
        "id": "view-in-github",
        "colab_type": "text"
      },
      "source": [
        "<a href=\"https://colab.research.google.com/github/SIMBL742/PBR_FERM/blob/main/PBR_FERM.ipynb\" target=\"_parent\"><img src=\"https://colab.research.google.com/assets/colab-badge.svg\" alt=\"Open In Colab\"/></a>"
      ]
    },
    {
      "cell_type": "markdown",
      "source": [
        "##Import Packages"
      ],
      "metadata": {
        "id": "-8pEnX_7Or_S"
      }
    },
    {
      "cell_type": "code",
      "execution_count": 4,
      "metadata": {
        "id": "_DuPoAV2NKVo",
        "colab": {
          "base_uri": "https://localhost:8080/"
        },
        "outputId": "b2bbc4ba-348d-4c5b-a4a1-03c8886b9e73"
      },
      "outputs": [
        {
          "output_type": "stream",
          "name": "stdout",
          "text": [
            "🧪 Prediction probability: 0.4906\n",
            "Predicted probability of infection: 0.4906059503555298\n"
          ]
        }
      ],
      "source": [
        "import pandas as pd\n",
        "import numpy as np\n",
        "import torch\n",
        "import torch.nn as nn\n",
        "from sklearn.preprocessing import StandardScaler\n",
        "from sklearn.model_selection import train_test_split\n",
        "\n",
        "# Load and Preprocess Data\n",
        "def load_and_preprocess_data(filepath):\n",
        "    df = pd.read_csv(filepath)\n",
        "    df['timestamp'] = pd.to_datetime(df['timestamp'])\n",
        "    df.sort_values(by=['fermenter_id', 'timestamp'], inplace=True)\n",
        "    df.set_index('timestamp', inplace=True)\n",
        "    df.ffill(inplace=True)\n",
        "    return df\n",
        "\n",
        "# Feature Engineering\n",
        "def engineer_features(df, features, rolling_window=6):\n",
        "    for feature in features:\n",
        "        df[f'{feature}_rolling_mean'] = (\n",
        "            df.groupby('fermenter_id')[feature]\n",
        "              .rolling(window=rolling_window).mean().reset_index(drop=True)\n",
        "        )\n",
        "        df[f'{feature}_delta'] = df.groupby('fermenter_id')[feature].diff()\n",
        "    return df\n",
        "\n",
        "# Normalize Features\n",
        "def normalize_features(df, features):\n",
        "    scaler = StandardScaler()\n",
        "    df[features] = scaler.fit_transform(df[features])\n",
        "    return df, scaler\n",
        "\n",
        "# Create Sequences\n",
        "def create_sequences(df, features, window_size=12):\n",
        "    sequences, labels = [], []\n",
        "    for _, group in df.groupby('fermenter_id'):\n",
        "        for i in range(len(group) - window_size):\n",
        "            window = group.iloc[i:i+window_size]\n",
        "            sequences.append(window[features].values)\n",
        "            labels.append(window['infection_label'].iloc[-1])\n",
        "    return np.array(sequences), np.array(labels)\n",
        "\n",
        "# Split Data and Convert to Tensors\n",
        "def split_and_tensorize(sequences, labels, test_size=0.2):\n",
        "    X_train, X_test, y_train, y_test = train_test_split(\n",
        "        sequences, labels, test_size=test_size, shuffle=False\n",
        "    )\n",
        "    return (\n",
        "        torch.tensor(X_train, dtype=torch.float32),\n",
        "        torch.tensor(X_test, dtype=torch.float32),\n",
        "        torch.tensor(y_train, dtype=torch.float32),\n",
        "        torch.tensor(y_test, dtype=torch.float32),\n",
        "    )\n",
        "\n",
        "# LSTM Model\n",
        "class FermenterLSTM(nn.Module):\n",
        "    def __init__(self, input_size, hidden_size, num_layers):\n",
        "        super(FermenterLSTM, self).__init__()\n",
        "        self.lstm = nn.LSTM(input_size, hidden_size, num_layers, batch_first=True)\n",
        "        self.fc = nn.Linear(hidden_size, 1)\n",
        "\n",
        "    def forward(self, x):\n",
        "        out, _ = self.lstm(x)\n",
        "        out = out[:, -1, :]\n",
        "        return torch.sigmoid(self.fc(out))\n",
        "\n",
        "# Prediction Function\n",
        "def predict_fermenter_status(model, latest_window_data):\n",
        "    model.eval()\n",
        "    with torch.no_grad():\n",
        "        input_tensor = torch.tensor(latest_window_data, dtype=torch.float32).unsqueeze(0)\n",
        "        pred_prob = model(input_tensor).item()\n",
        "    print(f\"🧪 Prediction probability: {pred_prob:.4f}\")\n",
        "    if pred_prob > 0.5:\n",
        "        print(\"⚠️ Infection likely in next few hours!\")\n",
        "    return pred_prob\n",
        "\n",
        "# Example Usage\n",
        "filepath = 'https://raw.githubusercontent.com/SIMBL742/PBR_FERM/refs/heads/main/fake_fermenter_data_.csv'  # Update this to your actual file path\n",
        "df = load_and_preprocess_data(filepath)\n",
        "features = df.columns[2:-3]  # Adjust the slice according to the feature columns and exclude labels\n",
        "\n",
        "df = engineer_features(df, features)\n",
        "df, scaler = normalize_features(df, features)\n",
        "sequences, labels = create_sequences(df, features)\n",
        "\n",
        "X_train, X_test, y_train, y_test = split_and_tensorize(sequences, labels)\n",
        "#ask what it means by dummy data\n",
        "# Assuming model and some latest_window_data are prepared for prediction\n",
        "model = FermenterLSTM(input_size=len(features), hidden_size=50, num_layers=2)\n",
        "latest_window_data = np.random.randn(12, len(features))  # Dummy data, replace with actual\n",
        "predicted_probability = predict_fermenter_status(model, latest_window_data)\n",
        "print(f\"Predicted probability of infection: {predicted_probability}\")\n"
      ]
    }
  ]
}